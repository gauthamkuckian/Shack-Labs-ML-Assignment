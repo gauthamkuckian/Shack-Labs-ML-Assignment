{
 "cells": [
  {
   "cell_type": "code",
   "execution_count": 104,
   "id": "0e758b21",
   "metadata": {},
   "outputs": [],
   "source": [
    "import pandas as pd"
   ]
  },
  {
   "cell_type": "code",
   "execution_count": 105,
   "id": "8bce2275",
   "metadata": {},
   "outputs": [],
   "source": [
    "amz=pd.read_csv(\"C:/Users/Gautham/OneDrive/Desktop/ML/DS - Assignment Part 2 data set/amz_com-ecommerce_sample.csv\",encoding= 'unicode_escape')\n",
    "fk=pd.read_csv(\"C:/Users/Gautham/OneDrive/Desktop/ML/DS - Assignment Part 2 data set/flipkart_com-ecommerce_sample.csv\",encoding= 'unicode_escape')"
   ]
  },
  {
   "cell_type": "code",
   "execution_count": 106,
   "id": "da3fe2e2",
   "metadata": {},
   "outputs": [],
   "source": [
    "amz=amz[[\"uniq_id\",\"product_name\",\"retail_price\",\"discounted_price\"]]\n",
    "fk=fk[[\"uniq_id\",\"product_name\",\"retail_price\",\"discounted_price\"]]\n",
    "amz.rename(columns={\"product_name\":\"product_name_amz\"},inplace=True)\n",
    "fk.rename(columns={\"product_name\":\"product_name_fk\"},inplace=True)"
   ]
  },
  {
   "cell_type": "code",
   "execution_count": 107,
   "id": "c7eb74bb",
   "metadata": {},
   "outputs": [],
   "source": [
    "merge=pd.merge(amz,fk,on=\"uniq_id\",how=\"inner\")"
   ]
  },
  {
   "cell_type": "code",
   "execution_count": 108,
   "id": "8fdfd884",
   "metadata": {},
   "outputs": [],
   "source": [
    "merge=merge.drop(\"uniq_id\",axis=1)"
   ]
  },
  {
   "cell_type": "code",
   "execution_count": 109,
   "id": "8f9bc6c0",
   "metadata": {},
   "outputs": [],
   "source": [
    "merge=merge.rename(columns={\"product_name_amz\":\"product name in amazon\",\"product_name_fk\":\"product name in flipkart\",\"retail_price_x\":\"retail price in amazon\",\"retail_price_y\":\"retail price in flipkart\",\"discounted_price_x\":\"discounted price in amazon\",\"discounted_price_y\":\"discounted price in flipkart \"})"
   ]
  },
  {
   "cell_type": "code",
   "execution_count": 110,
   "id": "80cf890e",
   "metadata": {},
   "outputs": [],
   "source": [
    "def compare_product(string,df):\n",
    "    return df[df['product name in amazon'].str.contains(string)]"
   ]
  },
  {
   "cell_type": "markdown",
   "id": "cffca448",
   "metadata": {},
   "source": [
    "# use this function to get the desired output"
   ]
  },
  {
   "cell_type": "code",
   "execution_count": 114,
   "id": "91981437",
   "metadata": {},
   "outputs": [
    {
     "data": {
      "text/html": [
       "<div>\n",
       "<style scoped>\n",
       "    .dataframe tbody tr th:only-of-type {\n",
       "        vertical-align: middle;\n",
       "    }\n",
       "\n",
       "    .dataframe tbody tr th {\n",
       "        vertical-align: top;\n",
       "    }\n",
       "\n",
       "    .dataframe thead th {\n",
       "        text-align: right;\n",
       "    }\n",
       "</style>\n",
       "<table border=\"1\" class=\"dataframe\">\n",
       "  <thead>\n",
       "    <tr style=\"text-align: right;\">\n",
       "      <th></th>\n",
       "      <th>product name in amazon</th>\n",
       "      <th>retail price in amazon</th>\n",
       "      <th>discounted price in amazon</th>\n",
       "      <th>product name in flipkart</th>\n",
       "      <th>retail price in flipkart</th>\n",
       "      <th>discounted price in flipkart</th>\n",
       "    </tr>\n",
       "  </thead>\n",
       "  <tbody>\n",
       "    <tr>\n",
       "      <th>28</th>\n",
       "      <td>FDT WOMEN'S Leggings Pants</td>\n",
       "      <td>698</td>\n",
       "      <td>362</td>\n",
       "      <td>FDT Women's Leggings</td>\n",
       "      <td>699.0</td>\n",
       "      <td>309.0</td>\n",
       "    </tr>\n",
       "  </tbody>\n",
       "</table>\n",
       "</div>"
      ],
      "text/plain": [
       "        product name in amazon  retail price in amazon  \\\n",
       "28  FDT WOMEN'S Leggings Pants                     698   \n",
       "\n",
       "    discounted price in amazon product name in flipkart  \\\n",
       "28                         362     FDT Women's Leggings   \n",
       "\n",
       "    retail price in flipkart  discounted price in flipkart   \n",
       "28                     699.0                          309.0  "
      ]
     },
     "execution_count": 114,
     "metadata": {},
     "output_type": "execute_result"
    }
   ],
   "source": [
    "compare_product(\"FDT\",merge)"
   ]
  },
  {
   "cell_type": "code",
   "execution_count": null,
   "id": "39119203",
   "metadata": {},
   "outputs": [],
   "source": []
  }
 ],
 "metadata": {
  "kernelspec": {
   "display_name": "myvenvkernel",
   "language": "python",
   "name": "myvenvkernel"
  },
  "language_info": {
   "codemirror_mode": {
    "name": "ipython",
    "version": 3
   },
   "file_extension": ".py",
   "mimetype": "text/x-python",
   "name": "python",
   "nbconvert_exporter": "python",
   "pygments_lexer": "ipython3",
   "version": "3.9.13"
  }
 },
 "nbformat": 4,
 "nbformat_minor": 5
}
