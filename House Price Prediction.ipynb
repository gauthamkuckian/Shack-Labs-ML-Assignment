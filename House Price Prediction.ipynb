{
 "cells": [
  {
   "cell_type": "code",
   "execution_count": 112,
   "id": "40fea52e",
   "metadata": {},
   "outputs": [],
   "source": [
    "import pandas as pd\n",
    "import seaborn as sns\n",
    "import numpy as np\n",
    "import matplotlib.pyplot as plt\n",
    "from lazypredict.Supervised import LazyRegressor\n",
    "from pandas.plotting import scatter_matrix\n",
    "from sklearn.linear_model import LinearRegression\n",
    "from sklearn.tree import DecisionTreeRegressor\n",
    "from sklearn.ensemble import ExtraTreesRegressor\n",
    "from sklearn import metrics\n",
    "from sklearn.metrics import mean_squared_error\n",
    "from sklearn.model_selection import train_test_split"
   ]
  },
  {
   "cell_type": "code",
   "execution_count": 113,
   "id": "c604684b",
   "metadata": {},
   "outputs": [],
   "source": [
    "df=pd.read_excel(\"C:/Users/Gautham/OneDrive/Desktop/ML/DS - Assignment Part 1 data set.xlsx\")\n",
    "#We need to Round off the date first\n",
    "df['Transaction date']=df['Transaction date'].round(decimals=0)\n",
    "# df=df.rename(columns={\"House price of unit area\":\"House_price\"},inplace=True)"
   ]
  },
  {
   "cell_type": "code",
   "execution_count": 114,
   "id": "e740d37d",
   "metadata": {},
   "outputs": [
    {
     "data": {
      "text/plain": [
       "Series([], dtype: float64)"
      ]
     },
     "execution_count": 114,
     "metadata": {},
     "output_type": "execute_result"
    }
   ],
   "source": [
    "#First we will check for missing values\n",
    "missing_count=(df.isnull().sum()/len(df))*100\n",
    "#Filter to find the missing count >0\n",
    "missing_count=missing_count[missing_count>0]\n",
    "missing_count"
   ]
  },
  {
   "cell_type": "markdown",
   "id": "f0a7134c",
   "metadata": {},
   "source": [
    "There are no Missing Values"
   ]
  },
  {
   "cell_type": "code",
   "execution_count": 115,
   "id": "1dbb5d9d",
   "metadata": {},
   "outputs": [
    {
     "data": {
      "text/plain": [
       "<AxesSubplot:xlabel='House price of unit area', ylabel='Density'>"
      ]
     },
     "execution_count": 115,
     "metadata": {},
     "output_type": "execute_result"
    },
    {
     "data": {
      "image/png": "[encoded data removed]",
      "text/plain": [
       "<Figure size 432x288 with 1 Axes>"
      ]
     },
     "metadata": {
      "needs_background": "light"
     },
     "output_type": "display_data"
    }
   ],
   "source": [
    "sns.distplot(df['House price of unit area'])"
   ]
  },
  {
   "cell_type": "code",
   "execution_count": 116,
   "id": "dc25bea3",
   "metadata": {},
   "outputs": [],
   "source": [
    "df.rename(columns={\"House price of unit area\":\"House_price\"},inplace=True)\n"
   ]
  },
  {
   "cell_type": "markdown",
   "id": "955392f1",
   "metadata": {},
   "source": [
    "Machine learning algorithms works well with the data which are normally distributed and our data seems to be slightly skewed to right so we will try to fix this by removing the data above 90"
   ]
  },
  {
   "cell_type": "code",
   "execution_count": 117,
   "id": "740d7eac",
   "metadata": {},
   "outputs": [
    {
     "data": {
      "text/html": [
       "<div>\n",
       "<style scoped>\n",
       "    .dataframe tbody tr th:only-of-type {\n",
       "        vertical-align: middle;\n",
       "    }\n",
       "\n",
       "    .dataframe tbody tr th {\n",
       "        vertical-align: top;\n",
       "    }\n",
       "\n",
       "    .dataframe thead th {\n",
       "        text-align: right;\n",
       "    }\n",
       "</style>\n",
       "<table border=\"1\" class=\"dataframe\">\n",
       "  <thead>\n",
       "    <tr style=\"text-align: right;\">\n",
       "      <th></th>\n",
       "      <th>Transaction date</th>\n",
       "      <th>House Age</th>\n",
       "      <th>Distance from nearest Metro station (km)</th>\n",
       "      <th>Number of convenience stores</th>\n",
       "      <th>latitude</th>\n",
       "      <th>longitude</th>\n",
       "      <th>Number of bedrooms</th>\n",
       "      <th>House size (sqft)</th>\n",
       "      <th>House_price</th>\n",
       "    </tr>\n",
       "  </thead>\n",
       "  <tbody>\n",
       "    <tr>\n",
       "      <th>0</th>\n",
       "      <td>2013.00</td>\n",
       "      <td>32.00</td>\n",
       "      <td>84.88</td>\n",
       "      <td>10</td>\n",
       "      <td>24.98</td>\n",
       "      <td>121.54</td>\n",
       "      <td>1</td>\n",
       "      <td>575</td>\n",
       "      <td>37.90</td>\n",
       "    </tr>\n",
       "    <tr>\n",
       "      <th>1</th>\n",
       "      <td>2013.00</td>\n",
       "      <td>19.50</td>\n",
       "      <td>306.59</td>\n",
       "      <td>9</td>\n",
       "      <td>24.98</td>\n",
       "      <td>121.54</td>\n",
       "      <td>2</td>\n",
       "      <td>1240</td>\n",
       "      <td>42.20</td>\n",
       "    </tr>\n",
       "    <tr>\n",
       "      <th>2</th>\n",
       "      <td>2014.00</td>\n",
       "      <td>13.30</td>\n",
       "      <td>561.98</td>\n",
       "      <td>5</td>\n",
       "      <td>24.99</td>\n",
       "      <td>121.54</td>\n",
       "      <td>3</td>\n",
       "      <td>1060</td>\n",
       "      <td>47.30</td>\n",
       "    </tr>\n",
       "    <tr>\n",
       "      <th>3</th>\n",
       "      <td>2014.00</td>\n",
       "      <td>13.30</td>\n",
       "      <td>561.98</td>\n",
       "      <td>5</td>\n",
       "      <td>24.99</td>\n",
       "      <td>121.54</td>\n",
       "      <td>2</td>\n",
       "      <td>875</td>\n",
       "      <td>54.80</td>\n",
       "    </tr>\n",
       "    <tr>\n",
       "      <th>4</th>\n",
       "      <td>2013.00</td>\n",
       "      <td>5.00</td>\n",
       "      <td>390.57</td>\n",
       "      <td>5</td>\n",
       "      <td>24.98</td>\n",
       "      <td>121.54</td>\n",
       "      <td>1</td>\n",
       "      <td>491</td>\n",
       "      <td>43.10</td>\n",
       "    </tr>\n",
       "    <tr>\n",
       "      <th>...</th>\n",
       "      <td>...</td>\n",
       "      <td>...</td>\n",
       "      <td>...</td>\n",
       "      <td>...</td>\n",
       "      <td>...</td>\n",
       "      <td>...</td>\n",
       "      <td>...</td>\n",
       "      <td>...</td>\n",
       "      <td>...</td>\n",
       "    </tr>\n",
       "    <tr>\n",
       "      <th>409</th>\n",
       "      <td>2013.00</td>\n",
       "      <td>13.70</td>\n",
       "      <td>4082.01</td>\n",
       "      <td>0</td>\n",
       "      <td>24.94</td>\n",
       "      <td>121.50</td>\n",
       "      <td>3</td>\n",
       "      <td>803</td>\n",
       "      <td>15.40</td>\n",
       "    </tr>\n",
       "    <tr>\n",
       "      <th>410</th>\n",
       "      <td>2013.00</td>\n",
       "      <td>5.60</td>\n",
       "      <td>90.46</td>\n",
       "      <td>9</td>\n",
       "      <td>24.97</td>\n",
       "      <td>121.54</td>\n",
       "      <td>2</td>\n",
       "      <td>1278</td>\n",
       "      <td>50.00</td>\n",
       "    </tr>\n",
       "    <tr>\n",
       "      <th>411</th>\n",
       "      <td>2013.00</td>\n",
       "      <td>18.80</td>\n",
       "      <td>390.97</td>\n",
       "      <td>7</td>\n",
       "      <td>24.98</td>\n",
       "      <td>121.54</td>\n",
       "      <td>1</td>\n",
       "      <td>503</td>\n",
       "      <td>40.60</td>\n",
       "    </tr>\n",
       "    <tr>\n",
       "      <th>412</th>\n",
       "      <td>2013.00</td>\n",
       "      <td>8.10</td>\n",
       "      <td>104.81</td>\n",
       "      <td>5</td>\n",
       "      <td>24.97</td>\n",
       "      <td>121.54</td>\n",
       "      <td>1</td>\n",
       "      <td>597</td>\n",
       "      <td>52.50</td>\n",
       "    </tr>\n",
       "    <tr>\n",
       "      <th>413</th>\n",
       "      <td>2014.00</td>\n",
       "      <td>6.50</td>\n",
       "      <td>90.46</td>\n",
       "      <td>9</td>\n",
       "      <td>24.97</td>\n",
       "      <td>121.54</td>\n",
       "      <td>2</td>\n",
       "      <td>1097</td>\n",
       "      <td>63.90</td>\n",
       "    </tr>\n",
       "  </tbody>\n",
       "</table>\n",
       "<p>413 rows × 9 columns</p>\n",
       "</div>"
      ],
      "text/plain": [
       "     Transaction date  House Age  Distance from nearest Metro station (km)  \\\n",
       "0             2013.00      32.00                                     84.88   \n",
       "1             2013.00      19.50                                    306.59   \n",
       "2             2014.00      13.30                                    561.98   \n",
       "3             2014.00      13.30                                    561.98   \n",
       "4             2013.00       5.00                                    390.57   \n",
       "..                ...        ...                                       ...   \n",
       "409           2013.00      13.70                                   4082.01   \n",
       "410           2013.00       5.60                                     90.46   \n",
       "411           2013.00      18.80                                    390.97   \n",
       "412           2013.00       8.10                                    104.81   \n",
       "413           2014.00       6.50                                     90.46   \n",
       "\n",
       "     Number of convenience stores  latitude  longitude  Number of bedrooms  \\\n",
       "0                              10     24.98     121.54                   1   \n",
       "1                               9     24.98     121.54                   2   \n",
       "2                               5     24.99     121.54                   3   \n",
       "3                               5     24.99     121.54                   2   \n",
       "4                               5     24.98     121.54                   1   \n",
       "..                            ...       ...        ...                 ...   \n",
       "409                             0     24.94     121.50                   3   \n",
       "410                             9     24.97     121.54                   2   \n",
       "411                             7     24.98     121.54                   1   \n",
       "412                             5     24.97     121.54                   1   \n",
       "413                             9     24.97     121.54                   2   \n",
       "\n",
       "     House size (sqft)  House_price  \n",
       "0                  575        37.90  \n",
       "1                 1240        42.20  \n",
       "2                 1060        47.30  \n",
       "3                  875        54.80  \n",
       "4                  491        43.10  \n",
       "..                 ...          ...  \n",
       "409                803        15.40  \n",
       "410               1278        50.00  \n",
       "411                503        40.60  \n",
       "412                597        52.50  \n",
       "413               1097        63.90  \n",
       "\n",
       "[413 rows x 9 columns]"
      ]
     },
     "execution_count": 117,
     "metadata": {},
     "output_type": "execute_result"
    }
   ],
   "source": [
    "filter=df[df.House_price <=90]\n",
    "filter"
   ]
  },
  {
   "cell_type": "code",
   "execution_count": 118,
   "id": "9f48074e",
   "metadata": {},
   "outputs": [
    {
     "data": {
      "text/plain": [
       "<AxesSubplot:xlabel='House_price', ylabel='Density'>"
      ]
     },
     "execution_count": 118,
     "metadata": {},
     "output_type": "execute_result"
    },
    {
     "data": {
      "image/png": "[encoded data removed]",
      "text/plain": [
       "<Figure size 432x288 with 1 Axes>"
      ]
     },
     "metadata": {
      "needs_background": "light"
     },
     "output_type": "display_data"
    }
   ],
   "source": [
    "sns.distplot(filter['House_price'])"
   ]
  },
  {
   "cell_type": "markdown",
   "id": "be314e87",
   "metadata": {},
   "source": [
    "Now our data seems to look normally distributed"
   ]
  },
  {
   "cell_type": "code",
   "execution_count": 119,
   "id": "a2afad69",
   "metadata": {},
   "outputs": [
    {
     "data": {
      "text/plain": [
       "<AxesSubplot:>"
      ]
     },
     "execution_count": 119,
     "metadata": {},
     "output_type": "execute_result"
    },
    {
     "data": {
      "image/png": "[encoded data removed]",
      "text/plain": [
       "<Figure size 432x288 with 2 Axes>"
      ]
     },
     "metadata": {
      "needs_background": "light"
     },
     "output_type": "display_data"
    }
   ],
   "source": [
    "#Correlation plot of the features\n",
    "corr=df.corr()\n",
    "sns.heatmap(corr)"
   ]
  },
  {
   "cell_type": "raw",
   "id": "dabf74e0",
   "metadata": {},
   "source": [
    "It seems that the features like Number of Convenience stores,Latitude and Longitude are highly correlated to house price"
   ]
  },
  {
   "cell_type": "code",
   "execution_count": 120,
   "id": "b198524d",
   "metadata": {},
   "outputs": [],
   "source": [
    "#Splitting the dataset\n",
    "x = filter.drop(\"House_price\",axis=1)\n",
    "y = filter[\"House_price\"]"
   ]
  },
  {
   "cell_type": "code",
   "execution_count": 121,
   "id": "5a9341bb",
   "metadata": {},
   "outputs": [],
   "source": [
    "X_train, X_test, y_train, y_test = train_test_split(x, y, random_state=3,test_size=0.25)"
   ]
  },
  {
   "cell_type": "code",
   "execution_count": 122,
   "id": "2b4fd142",
   "metadata": {},
   "outputs": [
    {
     "name": "stderr",
     "output_type": "stream",
     "text": [
      "100%|██████████████████████████████████████████████████████████████████████████████████| 42/42 [00:01<00:00, 23.50it/s]"
     ]
    },
    {
     "name": "stdout",
     "output_type": "stream",
     "text": [
      "                               Adjusted R-Squared  R-Squared  RMSE  Time Taken\n",
      "Model                                                                         \n",
      "ExtraTreesRegressor                          0.74       0.76  6.82        0.08\n",
      "RandomForestRegressor                        0.73       0.75  6.87        0.11\n",
      "AdaBoostRegressor                            0.73       0.75  6.95        0.06\n",
      "GradientBoostingRegressor                    0.72       0.75  6.97        0.05\n",
      "LGBMRegressor                                0.72       0.74  7.00        0.04\n",
      "HistGradientBoostingRegressor                0.72       0.74  7.08        0.09\n",
      "BaggingRegressor                             0.71       0.73  7.15        0.01\n",
      "XGBRegressor                                 0.65       0.68  7.82        0.05\n",
      "KNeighborsRegressor                          0.61       0.64  8.32        0.02\n",
      "PoissonRegressor                             0.60       0.63  8.36        0.01\n",
      "OrthogonalMatchingPursuitCV                  0.56       0.60  8.77        0.00\n",
      "ExtraTreeRegressor                           0.56       0.59  8.80        0.02\n",
      "LinearRegression                             0.55       0.59  8.86        0.01\n",
      "TransformedTargetRegressor                   0.55       0.59  8.86        0.00\n",
      "Lars                                         0.55       0.59  8.86        0.01\n",
      "Ridge                                        0.55       0.59  8.86        0.02\n",
      "SGDRegressor                                 0.55       0.59  8.87        0.00\n",
      "LassoCV                                      0.55       0.59  8.88        0.04\n",
      "LassoLarsIC                                  0.55       0.59  8.88        0.02\n",
      "BayesianRidge                                0.55       0.59  8.88        0.02\n",
      "RidgeCV                                      0.55       0.59  8.89        0.01\n",
      "ElasticNetCV                                 0.55       0.59  8.89        0.02\n",
      "LassoLarsCV                                  0.55       0.58  8.89        0.00\n",
      "LarsCV                                       0.55       0.58  8.89        0.01\n",
      "HuberRegressor                               0.54       0.58  8.97        0.02\n",
      "DecisionTreeRegressor                        0.54       0.58  8.99        0.00\n",
      "RANSACRegressor                              0.54       0.57  9.01        0.02\n",
      "Lasso                                        0.50       0.54  9.33        0.01\n",
      "SVR                                          0.49       0.53  9.45        0.01\n",
      "LinearSVR                                    0.48       0.52  9.60        0.01\n",
      "ElasticNet                                   0.48       0.52  9.60        0.02\n",
      "NuSVR                                        0.47       0.51  9.63        0.00\n",
      "TweedieRegressor                             0.45       0.50  9.80        0.01\n",
      "GammaRegressor                               0.45       0.49  9.83        0.02\n",
      "OrthogonalMatchingPursuit                    0.41       0.46 10.15        0.02\n",
      "PassiveAggressiveRegressor                   0.37       0.42 10.51        0.02\n",
      "MLPRegressor                                 0.07       0.14 12.77        0.23\n",
      "QuantileRegressor                           -0.09      -0.01 13.87        0.72\n",
      "DummyRegressor                              -0.11      -0.03 13.99        0.00\n",
      "LassoLars                                   -0.11      -0.03 13.99        0.00\n",
      "GaussianProcessRegressor                    -1.04      -0.88 18.93        0.01\n",
      "KernelRidge                                 -8.19      -7.47 40.18        0.01\n"
     ]
    },
    {
     "name": "stderr",
     "output_type": "stream",
     "text": [
      "\n"
     ]
    }
   ],
   "source": [
    "reg = LazyRegressor(ignore_warnings=False, custom_metric=None)\n",
    "models, predictions = reg.fit(X_train, X_test, y_train, y_test)\n",
    "print(models)"
   ]
  },
  {
   "cell_type": "markdown",
   "id": "4440432e",
   "metadata": {},
   "source": [
    "## As ExtraTreesRegressor has highest R-squared value of 76% we will go for it."
   ]
  },
  {
   "cell_type": "code",
   "execution_count": 123,
   "id": "b820ce1d",
   "metadata": {},
   "outputs": [
    {
     "data": {
      "text/plain": [
       "['ExtraTreesRegressor']"
      ]
     },
     "execution_count": 123,
     "metadata": {},
     "output_type": "execute_result"
    }
   ],
   "source": [
    "import joblib\n",
    "from sklearn.ensemble import ExtraTreesRegressor\n",
    "reg = ExtraTreesRegressor(n_estimators=100, random_state=0).fit(X_train, y_train)\n",
    "joblib.dump(reg,\"ExtraTreesRegressor\")"
   ]
  },
  {
   "cell_type": "code",
   "execution_count": 124,
   "id": "c9a4012b",
   "metadata": {},
   "outputs": [],
   "source": [
    "loaded_model = joblib.load(\"ExtraTreesRegressor\")"
   ]
  },
  {
   "cell_type": "code",
   "execution_count": 125,
   "id": "0b9551f7",
   "metadata": {},
   "outputs": [],
   "source": [
    "def predictions(Transaction_date,House_Age,nearest_metro_dist,Number_of_convenience_stores,latitude,longitude,Number_of_bedrooms,House_size,model):\n",
    "    return model.predict([[Transaction_date,House_Age,nearest_metro_dist,Number_of_convenience_stores,latitude,longitude,Number_of_bedrooms,House_size]])[0]"
   ]
  },
  {
   "cell_type": "code",
   "execution_count": 126,
   "id": "f3fc9a0d",
   "metadata": {},
   "outputs": [
    {
     "data": {
      "text/plain": [
       "39.65100000000003"
      ]
     },
     "execution_count": 126,
     "metadata": {},
     "output_type": "execute_result"
    }
   ],
   "source": [
    "predictions(2013.00,32.00,84.88,10,24.98,121.54,1,575,loaded_model)"
   ]
  },
  {
   "cell_type": "markdown",
   "id": "ea49ff19",
   "metadata": {},
   "source": [
    "# Thus our model is predicting House prices pretty accurately using Extra tree Regression."
   ]
  }
 ],
 "metadata": {
  "kernelspec": {
   "display_name": "myvenvkernel",
   "language": "python",
   "name": "myvenvkernel"
  },
  "language_info": {
   "codemirror_mode": {
    "name": "ipython",
    "version": 3
   },
   "file_extension": ".py",
   "mimetype": "text/x-python",
   "name": "python",
   "nbconvert_exporter": "python",
   "pygments_lexer": "ipython3",
   "version": "3.9.13"
  }
 },
 "nbformat": 4,
 "nbformat_minor": 5
}
